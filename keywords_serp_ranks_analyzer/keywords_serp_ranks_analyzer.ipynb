{
 "cells": [
  {
   "cell_type": "markdown",
   "metadata": {},
   "source": [
    "# Python Keywords Raw Analyzer"
   ]
  },
  {
   "cell_type": "markdown",
   "metadata": {},
   "source": [
    "### Carlo Occhiena 2021"
   ]
  },
  {
   "cell_type": "markdown",
   "metadata": {},
   "source": [
    "Instructions:\n",
    "\n",
    "- Activate the virtual environment for the required python libs (conda activate seo)\n",
    "- Insert the desired search keywords in the \"searches\" var. Limit it to 6 in order to avoid IP blacklisting from Google\n",
    "- You'll get a csv (stored in local folder)\n",
    "- Open this CVS, clean from spurious data and \\ or empty rows and paste it on a google sheet file \n",
    "- Open the Google Data Studio and copy the \"Python Keywords Scanner\", duplicate it, and link to the new Google Sheet Source. Done! "
   ]
  },
  {
   "cell_type": "code",
   "execution_count": 1,
   "metadata": {},
   "outputs": [],
   "source": [
    "from urllib.parse import urlparse, parse_qs\n",
    "from lxml.html import fromstring\n",
    "from requests import get\n",
    "import csv"
   ]
  },
  {
   "cell_type": "code",
   "execution_count": 2,
   "metadata": {},
   "outputs": [],
   "source": [
    "searches = [\"digital transformation\", \"startup\", \"trasformazione digitale\"] "
   ]
  },
  {
   "cell_type": "code",
   "execution_count": 4,
   "metadata": {},
   "outputs": [],
   "source": [
    "def keyword(words):\n",
    "    for search in words:\n",
    "        user_query = search\n",
    "        raw = get(\"https://www.google.com/search?q=\" + user_query).text\n",
    "        page = fromstring(raw)\n",
    "        links = page.cssselect(r\"a\")\n",
    "        csvfile = 'data.csv'\n",
    "        for row in links:\n",
    "            raw_url = row.get('href')\n",
    "            title = row.text_content()\n",
    "            if raw_url.startswith(\"/url?\"):\n",
    "                url = parse_qs(urlparse(raw_url).query)['q']\n",
    "                csvRow = [user_query, url[0], title]\n",
    "                with open(csvfile, 'a') as data:\n",
    "                    writer = csv.writer(data)\n",
    "                    writer.writerow(csvRow)  "
   ]
  },
  {
   "cell_type": "code",
   "execution_count": 5,
   "metadata": {},
   "outputs": [],
   "source": [
    "keyword(searches)"
   ]
  }
 ],
 "metadata": {
  "kernelspec": {
   "display_name": "Python 3",
   "language": "python",
   "name": "python3"
  },
  "language_info": {
   "codemirror_mode": {
    "name": "ipython",
    "version": 3
   },
   "file_extension": ".py",
   "mimetype": "text/x-python",
   "name": "python",
   "nbconvert_exporter": "python",
   "pygments_lexer": "ipython3",
   "version": "3.6.5"
  }
 },
 "nbformat": 4,
 "nbformat_minor": 2
}
